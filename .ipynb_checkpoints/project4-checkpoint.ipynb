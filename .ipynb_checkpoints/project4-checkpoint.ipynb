{
 "cells": [
  {
   "cell_type": "markdown",
   "metadata": {},
   "source": [
    "# Project 4\n",
    "## Conner Cook and Josh Ibad\n",
    "### CPSC 483-01"
   ]
  },
  {
   "cell_type": "markdown",
   "metadata": {},
   "source": [
    "## Introduction:\n",
    "In this project, we will work with several toy datasets to compare the decision boundaries determined by several classifier algorithms."
   ]
  },
  {
   "cell_type": "markdown",
   "metadata": {},
   "source": [
    "## Experiment 1:\n",
    "In order to compare the decision boundaries, we have to load the three datasets we will be using."
   ]
  },
  {
   "cell_type": "code",
   "execution_count": 1,
   "metadata": {},
   "outputs": [
    {
     "data": {
      "text/html": [
       "<div>\n",
       "<style scoped>\n",
       "    .dataframe tbody tr th:only-of-type {\n",
       "        vertical-align: middle;\n",
       "    }\n",
       "\n",
       "    .dataframe tbody tr th {\n",
       "        vertical-align: top;\n",
       "    }\n",
       "\n",
       "    .dataframe thead th {\n",
       "        text-align: right;\n",
       "    }\n",
       "</style>\n",
       "<table border=\"1\" class=\"dataframe\">\n",
       "  <thead>\n",
       "    <tr style=\"text-align: right;\">\n",
       "      <th></th>\n",
       "      <th>x1</th>\n",
       "      <th>x2</th>\n",
       "      <th>t</th>\n",
       "    </tr>\n",
       "  </thead>\n",
       "  <tbody>\n",
       "    <tr>\n",
       "      <th>0</th>\n",
       "      <td>1.800539</td>\n",
       "      <td>-0.539218</td>\n",
       "      <td>0</td>\n",
       "    </tr>\n",
       "    <tr>\n",
       "      <th>1</th>\n",
       "      <td>24.330831</td>\n",
       "      <td>26.439146</td>\n",
       "      <td>1</td>\n",
       "    </tr>\n",
       "    <tr>\n",
       "      <th>2</th>\n",
       "      <td>21.124114</td>\n",
       "      <td>21.166814</td>\n",
       "      <td>1</td>\n",
       "    </tr>\n",
       "    <tr>\n",
       "      <th>3</th>\n",
       "      <td>10.517197</td>\n",
       "      <td>11.175424</td>\n",
       "      <td>0</td>\n",
       "    </tr>\n",
       "    <tr>\n",
       "      <th>4</th>\n",
       "      <td>19.737721</td>\n",
       "      <td>23.341138</td>\n",
       "      <td>1</td>\n",
       "    </tr>\n",
       "  </tbody>\n",
       "</table>\n",
       "</div>"
      ],
      "text/plain": [
       "          x1         x2  t\n",
       "0   1.800539  -0.539218  0\n",
       "1  24.330831  26.439146  1\n",
       "2  21.124114  21.166814  1\n",
       "3  10.517197  11.175424  0\n",
       "4  19.737721  23.341138  1"
      ]
     },
     "execution_count": 1,
     "metadata": {},
     "output_type": "execute_result"
    }
   ],
   "source": [
    "# Import the pandas library in order to have the read_csv function\n",
    "import pandas as pd\n",
    "# Utilize the read_csv function to read the csv file and save it to df (dataframe)\n",
    "# The datasets do not have column names, so the names parameters allow us to add them\n",
    "# use the sep parameter to seperate the columns and rows\n",
    "df1 = pd.read_csv(\"dataset1.csv\", names=['x1', 'x2', 't'], sep=\",\")\n",
    "df1.head()"
   ]
  },
  {
   "cell_type": "code",
   "execution_count": 2,
   "metadata": {},
   "outputs": [
    {
     "data": {
      "text/html": [
       "<div>\n",
       "<style scoped>\n",
       "    .dataframe tbody tr th:only-of-type {\n",
       "        vertical-align: middle;\n",
       "    }\n",
       "\n",
       "    .dataframe tbody tr th {\n",
       "        vertical-align: top;\n",
       "    }\n",
       "\n",
       "    .dataframe thead th {\n",
       "        text-align: right;\n",
       "    }\n",
       "</style>\n",
       "<table border=\"1\" class=\"dataframe\">\n",
       "  <thead>\n",
       "    <tr style=\"text-align: right;\">\n",
       "      <th></th>\n",
       "      <th>x1</th>\n",
       "      <th>x2</th>\n",
       "      <th>t</th>\n",
       "    </tr>\n",
       "  </thead>\n",
       "  <tbody>\n",
       "    <tr>\n",
       "      <th>0</th>\n",
       "      <td>-1.664407</td>\n",
       "      <td>17.245415</td>\n",
       "      <td>0</td>\n",
       "    </tr>\n",
       "    <tr>\n",
       "      <th>1</th>\n",
       "      <td>20.211237</td>\n",
       "      <td>8.599145</td>\n",
       "      <td>1</td>\n",
       "    </tr>\n",
       "    <tr>\n",
       "      <th>2</th>\n",
       "      <td>12.675218</td>\n",
       "      <td>23.148375</td>\n",
       "      <td>1</td>\n",
       "    </tr>\n",
       "    <tr>\n",
       "      <th>3</th>\n",
       "      <td>17.552831</td>\n",
       "      <td>10.311698</td>\n",
       "      <td>1</td>\n",
       "    </tr>\n",
       "    <tr>\n",
       "      <th>4</th>\n",
       "      <td>14.959941</td>\n",
       "      <td>20.225844</td>\n",
       "      <td>1</td>\n",
       "    </tr>\n",
       "  </tbody>\n",
       "</table>\n",
       "</div>"
      ],
      "text/plain": [
       "          x1         x2  t\n",
       "0  -1.664407  17.245415  0\n",
       "1  20.211237   8.599145  1\n",
       "2  12.675218  23.148375  1\n",
       "3  17.552831  10.311698  1\n",
       "4  14.959941  20.225844  1"
      ]
     },
     "execution_count": 2,
     "metadata": {},
     "output_type": "execute_result"
    }
   ],
   "source": [
    "df2 = pd.read_csv(\"dataset2.csv\", names=['x1', 'x2', 't'], sep=\",\")\n",
    "df2.head()"
   ]
  },
  {
   "cell_type": "code",
   "execution_count": 3,
   "metadata": {},
   "outputs": [
    {
     "data": {
      "text/html": [
       "<div>\n",
       "<style scoped>\n",
       "    .dataframe tbody tr th:only-of-type {\n",
       "        vertical-align: middle;\n",
       "    }\n",
       "\n",
       "    .dataframe tbody tr th {\n",
       "        vertical-align: top;\n",
       "    }\n",
       "\n",
       "    .dataframe thead th {\n",
       "        text-align: right;\n",
       "    }\n",
       "</style>\n",
       "<table border=\"1\" class=\"dataframe\">\n",
       "  <thead>\n",
       "    <tr style=\"text-align: right;\">\n",
       "      <th></th>\n",
       "      <th>x1</th>\n",
       "      <th>x2</th>\n",
       "      <th>t</th>\n",
       "    </tr>\n",
       "  </thead>\n",
       "  <tbody>\n",
       "    <tr>\n",
       "      <th>195</th>\n",
       "      <td>8.029149</td>\n",
       "      <td>17.007334</td>\n",
       "      <td>1</td>\n",
       "    </tr>\n",
       "    <tr>\n",
       "      <th>196</th>\n",
       "      <td>11.341650</td>\n",
       "      <td>18.551593</td>\n",
       "      <td>1</td>\n",
       "    </tr>\n",
       "    <tr>\n",
       "      <th>197</th>\n",
       "      <td>29.313882</td>\n",
       "      <td>2.027670</td>\n",
       "      <td>0</td>\n",
       "    </tr>\n",
       "    <tr>\n",
       "      <th>198</th>\n",
       "      <td>8.122641</td>\n",
       "      <td>20.294774</td>\n",
       "      <td>1</td>\n",
       "    </tr>\n",
       "    <tr>\n",
       "      <th>199</th>\n",
       "      <td>28.770680</td>\n",
       "      <td>14.784148</td>\n",
       "      <td>0</td>\n",
       "    </tr>\n",
       "  </tbody>\n",
       "</table>\n",
       "</div>"
      ],
      "text/plain": [
       "            x1         x2  t\n",
       "195   8.029149  17.007334  1\n",
       "196  11.341650  18.551593  1\n",
       "197  29.313882   2.027670  0\n",
       "198   8.122641  20.294774  1\n",
       "199  28.770680  14.784148  0"
      ]
     },
     "execution_count": 3,
     "metadata": {},
     "output_type": "execute_result"
    }
   ],
   "source": [
    "df3 = pd.read_csv(\"dataset3.csv\", names=['x1', 'x2', 't'], sep=\",\")\n",
    "df3.tail()"
   ]
  },
  {
   "cell_type": "markdown",
   "metadata": {},
   "source": [
    "## Experiment 1 Conclusion:\n",
    "We utilized the read_csv method from pandas to read in the data from the three datasets. The three columns of the datasets are: feature x1, feature x2, and a label of 0 or 1. All three datasets have length of 199 entries. "
   ]
  },
  {
   "cell_type": "markdown",
   "metadata": {},
   "source": [
    "## Experiment 2:\n",
    "In this experiment, we will fit and score different binary classifiers for dataset 1 to test how accurate each model's predictions are. The three models we will use are logistic regression, gaussian naive bayes, and K-Nearest Neighbors."
   ]
  },
  {
   "cell_type": "code",
   "execution_count": 4,
   "metadata": {},
   "outputs": [],
   "source": [
    "# Preproccessing Step\n",
    "# seperate df1 into features and response\n",
    "df1_y = df1['t']\n",
    "df1_x = df1.copy(deep=True)\n",
    "df1_x = df1_x.drop(columns=['t'])"
   ]
  },
  {
   "cell_type": "code",
   "execution_count": 5,
   "metadata": {},
   "outputs": [
    {
     "name": "stdout",
     "output_type": "stream",
     "text": [
      "Logistic Regression Accuracy of Dataset 1: 1.0\n"
     ]
    }
   ],
   "source": [
    "import sklearn as sk\n",
    "from sklearn.linear_model import LogisticRegression\n",
    "from sklearn import metrics\n",
    "\n",
    "lr1 = LogisticRegression()\n",
    "lr1.fit(df1_x, df1_y)\n",
    "lr1_pred = lr1.predict(df1_x)\n",
    "\n",
    "print(f\"Logistic Regression Accuracy of Dataset 1: {metrics.accuracy_score(df1_y, lr1_pred)}\")"
   ]
  },
  {
   "cell_type": "code",
   "execution_count": 6,
   "metadata": {},
   "outputs": [
    {
     "name": "stdout",
     "output_type": "stream",
     "text": [
      "Guassian Naive Bayes Accuracy Dataset 1: 1.0\n"
     ]
    }
   ],
   "source": [
    "from sklearn.naive_bayes import GaussianNB\n",
    "\n",
    "gnb1 = GaussianNB()\n",
    "gnb1.fit(df1_x, df1_y)\n",
    "gnb1_pred = gnb1.predict(df1_x)\n",
    "\n",
    "print(f\"Guassian Naive Bayes Accuracy Dataset 1: {metrics.accuracy_score(df1_y, gnb1_pred)}\")"
   ]
  },
  {
   "cell_type": "code",
   "execution_count": 7,
   "metadata": {},
   "outputs": [
    {
     "name": "stdout",
     "output_type": "stream",
     "text": [
      "K-Nearest-Neighbors Accuracy Dataset 1: 1.0\n"
     ]
    }
   ],
   "source": [
    "from sklearn.neighbors import KNeighborsClassifier\n",
    "\n",
    "knn1 = KNeighborsClassifier(n_neighbors=3)\n",
    "knn1.fit(df1_x, df1_y)\n",
    "knn1_pred = knn1.predict(df1_x)\n",
    "\n",
    "print(f\"K-Nearest-Neighbors Accuracy Dataset 1: {metrics.accuracy_score(df1_y, knn1_pred)}\")"
   ]
  },
  {
   "cell_type": "markdown",
   "metadata": {},
   "source": [
    "## Experiment 2 Conclusion:\n",
    "The reason we did not split the dataset into training and test sets is because we are more interested in the classifiers themselves compared to the actual predictions. This resulted in the accuracy score of each classifier to be 100%, and this could be because we didn't split the training and test set."
   ]
  },
  {
   "cell_type": "markdown",
   "metadata": {},
   "source": [
    "## Experiment 3:\n",
    "We will repeat experiment 2, but with dataset 2. We are doing this to compare the results between the two datasets to see if we get the same results but with different datasets."
   ]
  },
  {
   "cell_type": "code",
   "execution_count": 8,
   "metadata": {},
   "outputs": [],
   "source": [
    "df2_y = df2['t']\n",
    "df2_x = df2.copy(deep=True)\n",
    "df2_x = df2_x.drop(columns=['t'])"
   ]
  },
  {
   "cell_type": "code",
   "execution_count": 9,
   "metadata": {},
   "outputs": [
    {
     "name": "stdout",
     "output_type": "stream",
     "text": [
      "Logistic Regression Accuracy Dataset 2: 0.525\n"
     ]
    }
   ],
   "source": [
    "lr2 = LogisticRegression()\n",
    "lr2.fit(df2_x, df2_y)\n",
    "lr2_pred = lr2.predict(df2_x)\n",
    "\n",
    "print(f\"Logistic Regression Accuracy Dataset 2: {metrics.accuracy_score(df2_y, lr2_pred)}\")"
   ]
  },
  {
   "cell_type": "code",
   "execution_count": 10,
   "metadata": {},
   "outputs": [
    {
     "name": "stdout",
     "output_type": "stream",
     "text": [
      "Guassian Naive Bayes Accuracy Dataset 2: 1.0\n"
     ]
    }
   ],
   "source": [
    "gnb2 = GaussianNB()\n",
    "gnb2.fit(df2_x, df2_y)\n",
    "gnb2_pred = gnb2.predict(df2_x)\n",
    "\n",
    "# gnb.score(x_train, y_train)\n",
    "print(f\"Guassian Naive Bayes Accuracy Dataset 2: {metrics.accuracy_score(df2_y, gnb2_pred)}\")"
   ]
  },
  {
   "cell_type": "code",
   "execution_count": 11,
   "metadata": {},
   "outputs": [
    {
     "name": "stdout",
     "output_type": "stream",
     "text": [
      "K-Nearest-Neighbors Accuracy Dataset 2: 1.0\n"
     ]
    }
   ],
   "source": [
    "knn2 = KNeighborsClassifier(n_neighbors=3)\n",
    "knn2.fit(df2_x, df2_y)\n",
    "knn2_pred = knn2.predict(df2_x)\n",
    "\n",
    "print(f\"K-Nearest-Neighbors Accuracy Dataset 2: {metrics.accuracy_score(df2_y, knn2_pred)}\")"
   ]
  },
  {
   "cell_type": "markdown",
   "metadata": {},
   "source": [
    "## Experiment 3 Conclusion:\n",
    "The results are the same between the two datasets except that the result of the Logistic Regression is 52.5%. There is a significant drop from the 100% accuracy of the first dataset. Next we will figure out why there is a huge difference between the two datasets."
   ]
  },
  {
   "cell_type": "markdown",
   "metadata": {},
   "source": [
    "## Experiment 4:\n",
    "We will create scatterplots for datasets 1 and 2 in order to visualize the data. Visualizing the data will make it easier to look at the data overall and find the discrepencies that cause the massive drop off of accuracy for the logistic regression classifier."
   ]
  },
  {
   "cell_type": "code",
   "execution_count": 12,
   "metadata": {},
   "outputs": [
    {
     "data": {
      "image/png": "[encoded data removed]",
      "text/plain": [
       "<Figure size 432x288 with 1 Axes>"
      ]
     },
     "metadata": {
      "needs_background": "light"
     },
     "output_type": "display_data"
    }
   ],
   "source": [
    "import matplotlib.pyplot as plt\n",
    "%matplotlib inline\n",
    "\n",
    "plt.scatter(df1['x1'], df1['t'], color = 'b', marker = 'v')\n",
    "plt.scatter(df1['x2'], df1['t'], color = 'r', marker = '^')\n",
    "plt.show()"
   ]
  },
  {
   "cell_type": "code",
   "execution_count": 13,
   "metadata": {},
   "outputs": [
    {
     "data": {
      "image/png": "[encoded data removed]",
      "text/plain": [
       "<Figure size 432x288 with 1 Axes>"
      ]
     },
     "metadata": {
      "needs_background": "light"
     },
     "output_type": "display_data"
    }
   ],
   "source": [
    "plt.scatter(df2['x1'], df2['t'], color = 'b', marker = 'v')\n",
    "plt.scatter(df2['x2'], df2['t'], color = 'r', marker = '^')\n",
    "plt.show()"
   ]
  },
  {
   "cell_type": "markdown",
   "metadata": {},
   "source": [
    "## Experiment 4 Conclusion:\n",
    "not sure yet"
   ]
  },
  {
   "cell_type": "markdown",
   "metadata": {},
   "source": [
    "## Experiment 5:\n",
    "We will now repeat for dataset 3 to find out the differences in behabior between the classifiers."
   ]
  },
  {
   "cell_type": "code",
   "execution_count": 14,
   "metadata": {},
   "outputs": [],
   "source": [
    "df3_y = df3['t']\n",
    "df3_x = df3.copy(deep=True)\n",
    "df3_x = df3_x.drop(columns=['t'])"
   ]
  },
  {
   "cell_type": "code",
   "execution_count": 15,
   "metadata": {},
   "outputs": [
    {
     "name": "stdout",
     "output_type": "stream",
     "text": [
      "Logistic Regression Accuracy Dataset 3: 0.87\n"
     ]
    }
   ],
   "source": [
    "lr3 = LogisticRegression()\n",
    "lr3.fit(df3_x, df3_y)\n",
    "lr3_pred = lr3.predict(df3_x)\n",
    "\n",
    "print(f\"Logistic Regression Accuracy Dataset 3: {metrics.accuracy_score(df3_y, lr3_pred)}\")"
   ]
  },
  {
   "cell_type": "code",
   "execution_count": 16,
   "metadata": {},
   "outputs": [
    {
     "name": "stdout",
     "output_type": "stream",
     "text": [
      "Guassian Naive Bayes Accuracy Dataset 3: 0.675\n"
     ]
    }
   ],
   "source": [
    "gnb3 = GaussianNB()\n",
    "gnb3.fit(df3_x, df3_y)\n",
    "gnb3_pred = gnb2.predict(df3_x)\n",
    "\n",
    "print(f\"Guassian Naive Bayes Accuracy Dataset 3: {metrics.accuracy_score(df3_y, gnb3_pred)}\")"
   ]
  },
  {
   "cell_type": "code",
   "execution_count": 17,
   "metadata": {},
   "outputs": [
    {
     "name": "stdout",
     "output_type": "stream",
     "text": [
      "K-Nearest-Neighbors Accuracy Dataset 3: 1.0\n"
     ]
    }
   ],
   "source": [
    "knn3 = KNeighborsClassifier(n_neighbors=3)\n",
    "knn3.fit(df3_x, df3_y)\n",
    "knn3_pred = knn3.predict(df3_x)\n",
    "\n",
    "print(f\"K-Nearest-Neighbors Accuracy Dataset 3: {metrics.accuracy_score(df3_y, knn3_pred)}\")"
   ]
  },
  {
   "cell_type": "code",
   "execution_count": 18,
   "metadata": {},
   "outputs": [
    {
     "data": {
      "image/png": "[encoded data removed]",
      "text/plain": [
       "<Figure size 432x288 with 1 Axes>"
      ]
     },
     "metadata": {
      "needs_background": "light"
     },
     "output_type": "display_data"
    }
   ],
   "source": [
    "plt.scatter(df3['x1'], df3['t'], color = 'b', marker = 'v')\n",
    "plt.scatter(df3['x2'], df3['t'], color = 'r', marker = '^')\n",
    "plt.show()"
   ]
  },
  {
   "cell_type": "markdown",
   "metadata": {},
   "source": [
    "## Experiment 5 Conclusion:\n",
    "havent obvsereved yet"
   ]
  },
  {
   "cell_type": "markdown",
   "metadata": {},
   "source": [
    "## Experiment 6:\n"
   ]
  },
  {
   "cell_type": "code",
   "execution_count": 19,
   "metadata": {},
   "outputs": [],
   "source": [
    "import numpy as np\n",
    "\n",
    "# define bounds of the domain by finding the max and min of each feature\n",
    "df1_min1, df1_max1 = df1_x['x1'].min() - 1, df1_x['x1'].max() + 1\n",
    "df1_min2, df1_max2 = df1_x['x2'].min() - 1, df1_x['x2'].max() + 1\n",
    "\n",
    "# define the x and y scale to create a uniform sample across each dimension\n",
    "df1_x1grid = np.arange(df1_min1, df1_max1, .1)\n",
    "df1_x2grid = np.arange(df1_min2, df1_max2, .1)\n",
    "\n",
    "# Now we will combine the two vectors into a grid\n",
    "df1_xx, df1_yy = np.meshgrid(df1_x1grid, df1_x2grid)\n",
    "\n",
    "# Now we will flatten out the grid to create samples to feed into the model\n",
    "df1_r1, df1_r2 = df1_xx.flatten(), df1_yy.flatten()\n",
    "df1_r1, df1_r2 = df1_r1.reshape((len(df1_r1), 1)), df1_r2.reshape((len(df1_r2),1))\n",
    "\n",
    "# Now we will stack the vectors side by side as columns\n",
    "df1_grid = np.hstack((df1_r1, df1_r2))\n",
    "\n"
   ]
  },
  {
   "cell_type": "code",
   "execution_count": 52,
   "metadata": {},
   "outputs": [
    {
     "data": {
      "image/png": "[encoded data removed]",
      "text/plain": [
       "<Figure size 432x288 with 1 Axes>"
      ]
     },
     "metadata": {
      "needs_background": "light"
     },
     "output_type": "display_data"
    }
   ],
   "source": [
    "df1_grid_lr = LogisticRegression()\n",
    "df1_grid_lr.fit(df1_x, df1_y)\n",
    "df1_grid_lr_pred = df1_grid_lr.predict(df1_grid)\n",
    "df1_zz = df1_grid_lr_pred.reshape(df1_xx.shape)\n",
    "plt.contour(df1_xx, df1_yy, df1_zz, cmap='Paired')\n",
    "for val in range(2):\n",
    "    row_ix = np.where(df1_y == val)[0]\n",
    "    plt.scatter(df1_x.take(row_ix).x1, df1_x.take(row_ix).x2, cmap='Paired')"
   ]
  },
  {
   "cell_type": "code",
   "execution_count": null,
   "metadata": {},
   "outputs": [],
   "source": []
  }
 ],
 "metadata": {
  "interpreter": {
   "hash": "aee8b7b246df8f9039afb4144a1f6fd8d2ca17a180786b69acc140d282b71a49"
  },
  "kernelspec": {
   "display_name": "Python 3 (ipykernel)",
   "language": "python",
   "name": "python3"
  },
  "language_info": {
   "codemirror_mode": {
    "name": "ipython",
    "version": 3
   },
   "file_extension": ".py",
   "mimetype": "text/x-python",
   "name": "python",
   "nbconvert_exporter": "python",
   "pygments_lexer": "ipython3",
   "version": "3.8.10"
  }
 },
 "nbformat": 4,
 "nbformat_minor": 4
}
